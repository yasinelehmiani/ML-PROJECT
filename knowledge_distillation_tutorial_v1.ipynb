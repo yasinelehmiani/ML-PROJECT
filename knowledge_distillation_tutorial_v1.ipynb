{
  "cells": [
    {
      "cell_type": "markdown",
      "metadata": {
        "id": "view-in-github",
        "colab_type": "text"
      },
      "source": [
        "<a href=\"https://colab.research.google.com/github/yasinelehmiani/ML-PROJECT/blob/main/knowledge_distillation_tutorial_v1.ipynb\" target=\"_parent\"><img src=\"https://colab.research.google.com/assets/colab-badge.svg\" alt=\"Open In Colab\"/></a>"
      ]
    },
    {
      "cell_type": "code",
      "execution_count": 1,
      "metadata": {
        "id": "m_N2283LqdZq"
      },
      "outputs": [],
      "source": [
        "# For tips on running notebooks in Google Colab, see\n",
        "# https://pytorch.org/tutorials/beginner/colab\n",
        "%matplotlib inline"
      ]
    },
    {
      "cell_type": "markdown",
      "metadata": {
        "id": "EkmZon9kqdZt"
      },
      "source": [
        "Knowledge Distillation Tutorial\n",
        "===============================\n",
        "\n",
        "**Author**: [Alexandros Chariton](https://github.com/AlexandrosChrtn)\n"
      ]
    },
    {
      "cell_type": "markdown",
      "metadata": {
        "id": "XFAF75FfqdZv"
      },
      "source": [
        "Knowledge distillation is a technique that enables knowledge transfer\n",
        "from large, computationally expensive models to smaller ones without\n",
        "losing validity. This allows for deployment on less powerful hardware,\n",
        "making evaluation faster and more efficient.\n",
        "\n",
        "In this tutorial, we will run a number of experiments focused at\n",
        "improving the accuracy of a lightweight neural network, using a more\n",
        "powerful network as a teacher. The computational cost and the speed of\n",
        "the lightweight network will remain unaffected, our intervention only\n",
        "focuses on its weights, not on its forward pass. Applications of this\n",
        "technology can be found in devices such as drones or mobile phones. In\n",
        "this tutorial, we do not use any external packages as everything we need\n",
        "is available in `torch` and `torchvision`.\n",
        "\n",
        "In this tutorial, you will learn:\n",
        "\n",
        "-   How to modify model classes to extract hidden representations and\n",
        "    use them for further calculations\n",
        "-   How to modify regular train loops in PyTorch to include additional\n",
        "    losses on top of, for example, cross-entropy for classification\n",
        "-   How to improve the performance of lightweight models by using more\n",
        "    complex models as teachers\n",
        "\n",
        "Prerequisites\n",
        "=============\n",
        "\n",
        "-   1 GPU, 4GB of memory\n",
        "-   PyTorch v2.0 or later\n",
        "-   CIFAR-10 dataset (downloaded by the script and saved in a directory\n",
        "    called `/data`)\n"
      ]
    },
    {
      "cell_type": "code",
      "execution_count": 2,
      "metadata": {
        "id": "B1QTW8jJqdZw",
        "outputId": "0d34dd37-ef15-4800-cd69-8c044584cc2f",
        "colab": {
          "base_uri": "https://localhost:8080/"
        }
      },
      "outputs": [
        {
          "output_type": "stream",
          "name": "stdout",
          "text": [
            "Using cuda device\n"
          ]
        }
      ],
      "source": [
        "import torch\n",
        "import torch.nn as nn\n",
        "import torch.optim as optim\n",
        "import torchvision.transforms as transforms\n",
        "import torchvision.datasets as datasets\n",
        "\n",
        "# Check if the current `accelerator <https://pytorch.org/docs/stable/torch.html#accelerators>`__\n",
        "# is available, and if not, use the CPU\n",
        "device = torch.accelerator.current_accelerator().type if torch.accelerator.is_available() else \"cpu\"\n",
        "print(f\"Using {device} device\")"
      ]
    },
    {
      "cell_type": "code",
      "source": [],
      "metadata": {
        "id": "lVz_Snfara0H",
        "outputId": "52ba3e69-5690-4d59-ba08-545b49dc6e35",
        "colab": {
          "base_uri": "https://localhost:8080/"
        }
      },
      "execution_count": null,
      "outputs": [
        {
          "output_type": "execute_result",
          "data": {
            "text/plain": [
              "<module 'torch.accelerator' from '/usr/local/lib/python3.11/dist-packages/torch/accelerator/__init__.py'>"
            ]
          },
          "metadata": {},
          "execution_count": 5
        }
      ]
    },
    {
      "cell_type": "markdown",
      "metadata": {
        "id": "IMXc033CqdZx"
      },
      "source": [
        "Loading CIFAR-10\n",
        "================\n",
        "\n",
        "CIFAR-10 is a popular image dataset with ten classes. Our objective is\n",
        "to predict one of the following classes for each input image.\n",
        "\n",
        "![Example of CIFAR-10\n",
        "images](https://pytorch.org/tutorials//../_static/img/cifar10.png){.align-center}\n",
        "\n",
        "The input images are RGB, so they have 3 channels and are 32x32 pixels.\n",
        "Basically, each image is described by 3 x 32 x 32 = 3072 numbers ranging\n",
        "from 0 to 255. A common practice in neural networks is to normalize the\n",
        "input, which is done for multiple reasons, including avoiding saturation\n",
        "in commonly used activation functions and increasing numerical\n",
        "stability. Our normalization process consists of subtracting the mean\n",
        "and dividing by the standard deviation along each channel. The tensors\n",
        "\\\"mean=\\[0.485, 0.456, 0.406\\]\\\" and \\\"std=\\[0.229, 0.224, 0.225\\]\\\"\n",
        "were already computed, and they represent the mean and standard\n",
        "deviation of each channel in the predefined subset of CIFAR-10 intended\n",
        "to be the training set. Notice how we use these values for the test set\n",
        "as well, without recomputing the mean and standard deviation from\n",
        "scratch. This is because the network was trained on features produced by\n",
        "subtracting and dividing the numbers above, and we want to maintain\n",
        "consistency. Furthermore, in real life, we would not be able to compute\n",
        "the mean and standard deviation of the test set since, under our\n",
        "assumptions, this data would not be accessible at that point.\n",
        "\n",
        "As a closing point, we often refer to this held-out set as the\n",
        "validation set, and we use a separate set, called the test set, after\n",
        "optimizing a model\\'s performance on the validation set. This is done to\n",
        "avoid selecting a model based on the greedy and biased optimization of a\n",
        "single metric.\n"
      ]
    },
    {
      "cell_type": "code",
      "execution_count": 3,
      "metadata": {
        "id": "pEbh_KBFqdZy",
        "outputId": "9f085432-d496-4337-9076-13d6b5431a4c",
        "colab": {
          "base_uri": "https://localhost:8080/"
        }
      },
      "outputs": [
        {
          "output_type": "stream",
          "name": "stderr",
          "text": [
            "100%|██████████| 170M/170M [00:18<00:00, 9.15MB/s]\n"
          ]
        }
      ],
      "source": [
        "# Below we are preprocessing data for CIFAR-10. We use an arbitrary batch size of 128.\n",
        "transforms_cifar = transforms.Compose([\n",
        "    transforms.ToTensor(),\n",
        "    transforms.Normalize(mean=[0.485, 0.456, 0.406], std=[0.229, 0.224, 0.225]),\n",
        "])\n",
        "\n",
        "# Loading the CIFAR-10 dataset:\n",
        "train_dataset = datasets.CIFAR10(root='./data', train=True, download=True, transform=transforms_cifar)\n",
        "test_dataset = datasets.CIFAR10(root='./data', train=False, download=True, transform=transforms_cifar)"
      ]
    },
    {
      "cell_type": "markdown",
      "metadata": {
        "id": "84bHp2m0qdZz"
      },
      "source": [
        "<div style=\"background-color: #54c7ec; color: #fff; font-weight: 700; padding-left: 10px; padding-top: 5px; padding-bottom: 5px\"><strong>NOTE:</strong></div>\n",
        "\n",
        "<div style=\"background-color: #f3f4f7; padding-left: 10px; padding-top: 10px; padding-bottom: 10px; padding-right: 10px\">\n",
        "\n",
        "<p>This section is for CPU users only who are interested in quick results. Use this option only if you're interested in a small scale experiment. Keep in mind the code should run fairly quickly using any GPU. Select only the first <code>num_images_to_keep</code> images from the train/test dataset<pre><code>#from torch.utils.data import Subset</p>\n",
        "<h1>num_images_to_keep = 2000</h1>\n",
        "<h1>train_dataset = Subset(train_dataset, range(min(num_images_to_keep, 50_000)))</h1>\n",
        "<h1>test_dataset = Subset(test_dataset, range(min(num_images_to_keep, 10_000)))</code></pre></h1>\n",
        "```\n",
        "\n",
        "</div>\n",
        "\n"
      ]
    },
    {
      "cell_type": "code",
      "execution_count": 4,
      "metadata": {
        "id": "jnOMkV8bqdZ0"
      },
      "outputs": [],
      "source": [
        "#Dataloaders\n",
        "train_loader = torch.utils.data.DataLoader(train_dataset, batch_size=128, shuffle=True, num_workers=2)\n",
        "test_loader = torch.utils.data.DataLoader(test_dataset, batch_size=128, shuffle=False, num_workers=2)"
      ]
    },
    {
      "cell_type": "markdown",
      "metadata": {
        "id": "AGGaC--SqdZ1"
      },
      "source": [
        "Defining model classes and utility functions\n",
        "============================================\n",
        "\n",
        "Next, we need to define our model classes. Several user-defined\n",
        "parameters need to be set here. We use two different architectures,\n",
        "keeping the number of filters fixed across our experiments to ensure\n",
        "fair comparisons. Both architectures are Convolutional Neural Networks\n",
        "(CNNs) with a different number of convolutional layers that serve as\n",
        "feature extractors, followed by a classifier with 10 classes. The number\n",
        "of filters and neurons is smaller for the students.\n"
      ]
    },
    {
      "cell_type": "code",
      "source": [
        "#"
      ],
      "metadata": {
        "id": "OlS79sCqxmPi"
      },
      "execution_count": null,
      "outputs": []
    },
    {
      "cell_type": "code",
      "execution_count": 44,
      "metadata": {
        "id": "QACbx855qdZ2"
      },
      "outputs": [],
      "source": [
        "# Deeper neural network class to be used as teacher:\n",
        "class DeepNN(nn.Module):\n",
        "    def __init__(self, num_classes=10):\n",
        "        super(DeepNN, self).__init__()\n",
        "        self.features = nn.Sequential(\n",
        "            nn.Conv2d(3, 128, kernel_size=3, padding=1),\n",
        "            nn.ReLU(),\n",
        "            nn.Conv2d(128, 64, kernel_size=3, padding=1),\n",
        "            nn.ReLU(),\n",
        "            nn.MaxPool2d(kernel_size=2, stride=2),\n",
        "            nn.Conv2d(64, 64, kernel_size=3, padding=1),\n",
        "            nn.ReLU(),\n",
        "            nn.Conv2d(64, 32, kernel_size=3, padding=1),\n",
        "            nn.ReLU(),\n",
        "            nn.MaxPool2d(kernel_size=2, stride=2),\n",
        "        )\n",
        "        self.classifier = nn.Sequential(\n",
        "            nn.Linear(2048, 512),\n",
        "            nn.ReLU(),\n",
        "            nn.Dropout(0.1),\n",
        "            nn.Linear(512, num_classes)\n",
        "        )\n",
        "\n",
        "    def forward(self, x):\n",
        "        x = self.features(x)\n",
        "        x = torch.flatten(x, 1)\n",
        "        x = self.classifier(x)\n",
        "        return x\n",
        "\n",
        "# Lightweight neural network class to be used as student:\n",
        "class LightNN(nn.Module):\n",
        "    def __init__(self, num_classes=10):\n",
        "        super(LightNN, self).__init__()\n",
        "        self.features = nn.Sequential(\n",
        "            nn.Conv2d(3, 16, kernel_size=3, padding=1),\n",
        "            nn.ReLU(),\n",
        "            nn.MaxPool2d(kernel_size=2, stride=2),\n",
        "            nn.Conv2d(16, 16, kernel_size=3, padding=1),\n",
        "            nn.ReLU(),\n",
        "            nn.MaxPool2d(kernel_size=2, stride=2),\n",
        "        )\n",
        "        self.classifier = nn.Sequential(\n",
        "            nn.Linear(1024, 256),\n",
        "            nn.ReLU(),\n",
        "            nn.Dropout(0.1),\n",
        "            nn.Linear(256, num_classes)\n",
        "        )\n",
        "\n",
        "    def forward(self, x):\n",
        "        x = self.features(x)\n",
        "        x = torch.flatten(x, 1)\n",
        "        x = self.classifier(x)\n",
        "        return x"
      ]
    },
    {
      "cell_type": "code",
      "source": [],
      "metadata": {
        "id": "ubXpEXNSxqLM"
      },
      "execution_count": null,
      "outputs": []
    },
    {
      "cell_type": "markdown",
      "metadata": {
        "id": "AUxVsu5VqdZ2"
      },
      "source": [
        "We employ 2 functions to help us produce and evaluate the results on our\n",
        "original classification task. One function is called `train` and takes\n",
        "the following arguments:\n",
        "\n",
        "-   `model`: A model instance to train (update its weights) via this\n",
        "    function.\n",
        "-   `train_loader`: We defined our `train_loader` above, and its job is\n",
        "    to feed the data into the model.\n",
        "-   `epochs`: How many times we loop over the dataset.\n",
        "-   `learning_rate`: The learning rate determines how large our steps\n",
        "    towards convergence should be. Too large or too small steps can be\n",
        "    detrimental.\n",
        "-   `device`: Determines the device to run the workload on. Can be\n",
        "    either CPU or GPU depending on availability.\n",
        "\n",
        "Our test function is similar, but it will be invoked with `test_loader`\n",
        "to load images from the test set.\n",
        "\n",
        "![Train both networks with Cross-Entropy. The student will be used as a\n",
        "baseline:](https://pytorch.org/tutorials//../_static/img/knowledge_distillation/ce_only.png){.align-center}\n"
      ]
    },
    {
      "cell_type": "code",
      "execution_count": 6,
      "metadata": {
        "id": "eLNJTxzqqdZ3"
      },
      "outputs": [],
      "source": [
        "def train(model, train_loader, epochs, learning_rate, device):\n",
        "    criterion = nn.CrossEntropyLoss()\n",
        "    optimizer = optim.Adam(model.parameters(), lr=learning_rate)\n",
        "\n",
        "    model.train()\n",
        "\n",
        "    for epoch in range(epochs):\n",
        "        running_loss = 0.0\n",
        "        for inputs, labels in train_loader:\n",
        "            # inputs: A collection of batch_size images\n",
        "            # labels: A vector of dimensionality batch_size with integers denoting class of each image\n",
        "            inputs, labels = inputs.to(device), labels.to(device)\n",
        "\n",
        "            optimizer.zero_grad()\n",
        "            outputs = model(inputs)\n",
        "\n",
        "            # outputs: Output of the network for the collection of images. A tensor of dimensionality batch_size x num_classes\n",
        "            # labels: The actual labels of the images. Vector of dimensionality batch_size\n",
        "            loss = criterion(outputs, labels)\n",
        "            loss.backward()\n",
        "            optimizer.step()\n",
        "\n",
        "            running_loss += loss.item()\n",
        "\n",
        "        print(f\"Epoch {epoch+1}/{epochs}, Loss: {running_loss / len(train_loader)}\")\n",
        "\n",
        "def test(model, test_loader, device):\n",
        "    model.to(device)\n",
        "    model.eval()\n",
        "\n",
        "    correct = 0\n",
        "    total = 0\n",
        "\n",
        "    with torch.no_grad():\n",
        "        for inputs, labels in test_loader:\n",
        "            inputs, labels = inputs.to(device), labels.to(device)\n",
        "\n",
        "            outputs = model(inputs)\n",
        "            _, predicted = torch.max(outputs.data, 1)\n",
        "\n",
        "            total += labels.size(0)\n",
        "            correct += (predicted == labels).sum().item()\n",
        "\n",
        "    accuracy = 100 * correct / total\n",
        "    print(f\"Test Accuracy: {accuracy:.2f}%\")\n",
        "    return accuracy"
      ]
    },
    {
      "cell_type": "markdown",
      "metadata": {
        "id": "HkDd7WtfqdZ3"
      },
      "source": [
        "Cross-entropy runs\n",
        "==================\n",
        "\n",
        "For reproducibility, we need to set the torch manual seed. We train\n",
        "networks using different methods, so to compare them fairly, it makes\n",
        "sense to initialize the networks with the same weights. Start by\n",
        "training the teacher network using cross-entropy:\n"
      ]
    },
    {
      "cell_type": "code",
      "execution_count": 45,
      "metadata": {
        "id": "kEWB_TRIqdZ3",
        "outputId": "57cb6849-fac7-4712-bc6b-f5c031afb50f",
        "colab": {
          "base_uri": "https://localhost:8080/"
        }
      },
      "outputs": [
        {
          "output_type": "stream",
          "name": "stdout",
          "text": [
            "Epoch 1/10, Loss: 1.323295533961957\n",
            "Epoch 2/10, Loss: 0.8545859456062317\n",
            "Epoch 3/10, Loss: 0.6709189689372812\n",
            "Epoch 4/10, Loss: 0.5259536800482084\n",
            "Epoch 5/10, Loss: 0.40992620560671666\n",
            "Epoch 6/10, Loss: 0.30818961185338856\n",
            "Epoch 7/10, Loss: 0.22198945382976776\n",
            "Epoch 8/10, Loss: 0.171491788085693\n",
            "Epoch 9/10, Loss: 0.14030589246193467\n",
            "Epoch 10/10, Loss: 0.12077539075461342\n",
            "Test Accuracy: 76.01%\n"
          ]
        }
      ],
      "source": [
        "torch.manual_seed(42)\n",
        "nn_deep = DeepNN(num_classes=10).to(device)\n",
        "train(nn_deep, train_loader, epochs=10, learning_rate=0.001, device=device)\n",
        "test_accuracy_deep = test(nn_deep, test_loader, device)\n",
        "\n",
        "# Instantiate the lightweight network:\n",
        "torch.manual_seed(42)\n",
        "nn_light = LightNN(num_classes=10).to(device)"
      ]
    },
    {
      "cell_type": "markdown",
      "metadata": {
        "id": "XuBJ0vgoqdZ4"
      },
      "source": [
        "We instantiate one more lightweight network model to compare their\n",
        "performances. Back propagation is sensitive to weight initialization, so\n",
        "we need to make sure these two networks have the exact same\n",
        "initialization.\n"
      ]
    },
    {
      "cell_type": "code",
      "execution_count": 53,
      "metadata": {
        "id": "KGRO-AD0qdZ4"
      },
      "outputs": [],
      "source": [
        "torch.manual_seed(42)\n",
        "new_nn_light = LightNN(num_classes=10).to(device)"
      ]
    },
    {
      "cell_type": "markdown",
      "metadata": {
        "id": "URHJ7uFuqdZ4"
      },
      "source": [
        "To ensure we have created a copy of the first network, we inspect the\n",
        "norm of its first layer. If it matches, then we are safe to conclude\n",
        "that the networks are indeed the same.\n"
      ]
    },
    {
      "cell_type": "code",
      "execution_count": 9,
      "metadata": {
        "id": "TDZR4t9MqdZ5",
        "outputId": "1a63cd2d-9440-4ec4-99dc-ba5158781c25",
        "colab": {
          "base_uri": "https://localhost:8080/"
        }
      },
      "outputs": [
        {
          "output_type": "stream",
          "name": "stdout",
          "text": [
            "Norm of 1st layer of nn_light: 2.327361822128296\n",
            "Norm of 1st layer of new_nn_light: 2.327361822128296\n"
          ]
        }
      ],
      "source": [
        "# Print the norm of the first layer of the initial lightweight model\n",
        "print(\"Norm of 1st layer of nn_light:\", torch.norm(nn_light.features[0].weight).item())\n",
        "# Print the norm of the first layer of the new lightweight model\n",
        "print(\"Norm of 1st layer of new_nn_light:\", torch.norm(new_nn_light.features[0].weight).item())"
      ]
    },
    {
      "cell_type": "markdown",
      "metadata": {
        "id": "7vvwOu3FqdZ5"
      },
      "source": [
        "Print the total number of parameters in each model:\n"
      ]
    },
    {
      "cell_type": "code",
      "execution_count": 10,
      "metadata": {
        "id": "SREj50AVqdZ5",
        "outputId": "3a5f619d-e0ce-432c-f6cb-544f283c51f5",
        "colab": {
          "base_uri": "https://localhost:8080/"
        }
      },
      "outputs": [
        {
          "output_type": "stream",
          "name": "stdout",
          "text": [
            "DeepNN parameters: 1,186,986\n",
            "LightNN parameters: 267,738\n"
          ]
        }
      ],
      "source": [
        "total_params_deep = \"{:,}\".format(sum(p.numel() for p in nn_deep.parameters()))\n",
        "print(f\"DeepNN parameters: {total_params_deep}\")\n",
        "total_params_light = \"{:,}\".format(sum(p.numel() for p in nn_light.parameters()))\n",
        "print(f\"LightNN parameters: {total_params_light}\")"
      ]
    },
    {
      "cell_type": "markdown",
      "metadata": {
        "id": "c9YkKsT_qdZ5"
      },
      "source": [
        "Train and test the lightweight network with cross entropy loss:\n"
      ]
    },
    {
      "cell_type": "code",
      "execution_count": 52,
      "metadata": {
        "id": "vviu1_b9qdZ6",
        "outputId": "55929389-dc3f-41a3-93fb-01ffca392e05",
        "colab": {
          "base_uri": "https://localhost:8080/"
        }
      },
      "outputs": [
        {
          "output_type": "stream",
          "name": "stdout",
          "text": [
            "Epoch 1/10, Loss: 1.4645659194882874\n",
            "Epoch 2/10, Loss: 1.14679701447182\n",
            "Epoch 3/10, Loss: 1.0106828377374908\n",
            "Epoch 4/10, Loss: 0.9190605590715433\n",
            "Epoch 5/10, Loss: 0.8395667696547935\n",
            "Epoch 6/10, Loss: 0.7735023800369418\n",
            "Epoch 7/10, Loss: 0.7121646535366087\n",
            "Epoch 8/10, Loss: 0.6524322010824443\n",
            "Epoch 9/10, Loss: 0.598829321772851\n",
            "Epoch 10/10, Loss: 0.5505173132395196\n",
            "Test Accuracy: 70.30%\n"
          ]
        }
      ],
      "source": [
        "train(nn_light, train_loader, epochs=10, learning_rate=0.001, device=device)\n",
        "test_accuracy_light_ce = test(nn_light, test_loader, device)"
      ]
    },
    {
      "cell_type": "markdown",
      "metadata": {
        "id": "cjCmJnfkqdZ6"
      },
      "source": [
        "As we can see, based on test accuracy, we can now compare the deeper\n",
        "network that is to be used as a teacher with the lightweight network\n",
        "that is our supposed student. So far, our student has not intervened\n",
        "with the teacher, therefore this performance is achieved by the student\n",
        "itself. The metrics so far can be seen with the following lines:\n"
      ]
    },
    {
      "cell_type": "code",
      "execution_count": 12,
      "metadata": {
        "id": "pnvCHXu1qdZ6",
        "outputId": "05fbe9db-b068-426c-e907-2f057e1c7ea8",
        "colab": {
          "base_uri": "https://localhost:8080/"
        }
      },
      "outputs": [
        {
          "output_type": "stream",
          "name": "stdout",
          "text": [
            "Teacher accuracy: 76.25%\n",
            "Student accuracy: 69.97%\n"
          ]
        }
      ],
      "source": [
        "print(f\"Teacher accuracy: {test_accuracy_deep:.2f}%\")\n",
        "print(f\"Student accuracy: {test_accuracy_light_ce:.2f}%\")"
      ]
    },
    {
      "cell_type": "markdown",
      "metadata": {
        "id": "u2HYQ61TqdZ7"
      },
      "source": [
        "Knowledge distillation run\n",
        "==========================\n",
        "\n",
        "Now let\\'s try to improve the test accuracy of the student network by\n",
        "incorporating the teacher. Knowledge distillation is a straightforward\n",
        "technique to achieve this, based on the fact that both networks output a\n",
        "probability distribution over our classes. Therefore, the two networks\n",
        "share the same number of output neurons. The method works by\n",
        "incorporating an additional loss into the traditional cross entropy\n",
        "loss, which is based on the softmax output of the teacher network. The\n",
        "assumption is that the output activations of a properly trained teacher\n",
        "network carry additional information that can be leveraged by a student\n",
        "network during training. The original work suggests that utilizing\n",
        "ratios of smaller probabilities in the soft targets can help achieve the\n",
        "underlying objective of deep neural networks, which is to create a\n",
        "similarity structure over the data where similar objects are mapped\n",
        "closer together. For example, in CIFAR-10, a truck could be mistaken for\n",
        "an automobile or airplane, if its wheels are present, but it is less\n",
        "likely to be mistaken for a dog. Therefore, it makes sense to assume\n",
        "that valuable information resides not only in the top prediction of a\n",
        "properly trained model but in the entire output distribution. However,\n",
        "cross entropy alone does not sufficiently exploit this information as\n",
        "the activations for non-predicted classes tend to be so small that\n",
        "propagated gradients do not meaningfully change the weights to construct\n",
        "this desirable vector space.\n",
        "\n",
        "As we continue defining our first helper function that introduces a\n",
        "teacher-student dynamic, we need to include a few extra parameters:\n",
        "\n",
        "-   `T`: Temperature controls the smoothness of the output\n",
        "    distributions. Larger `T` leads to smoother distributions, thus\n",
        "    smaller probabilities get a larger boost.\n",
        "-   `soft_target_loss_weight`: A weight assigned to the extra objective\n",
        "    we\\'re about to include.\n",
        "-   `ce_loss_weight`: A weight assigned to cross-entropy. Tuning these\n",
        "    weights pushes the network towards optimizing for either objective.\n",
        "\n",
        "![Distillation loss is calculated from the logits of the networks. It\n",
        "only returns gradients to the\n",
        "student:](https://pytorch.org/tutorials//../_static/img/knowledge_distillation/distillation_output_loss.png){.align-center}\n"
      ]
    },
    {
      "cell_type": "code",
      "execution_count": 54,
      "metadata": {
        "id": "3T9qlIDGqdZ7",
        "outputId": "1c5e0b41-83fd-4f33-f26a-de2dc1553ee6",
        "colab": {
          "base_uri": "https://localhost:8080/"
        }
      },
      "outputs": [
        {
          "output_type": "stream",
          "name": "stdout",
          "text": [
            "Epoch 1/10, Loss: 2.3553658479924704\n",
            "Epoch 2/10, Loss: 1.850019332088168\n",
            "Epoch 3/10, Loss: 1.6326239295017995\n",
            "Epoch 4/10, Loss: 1.4655637192299298\n",
            "Epoch 5/10, Loss: 1.3378631338439024\n",
            "Epoch 6/10, Loss: 1.2261355731188488\n",
            "Epoch 7/10, Loss: 1.1258044145296298\n",
            "Epoch 8/10, Loss: 1.0327721715278333\n",
            "Epoch 9/10, Loss: 0.953714253042665\n",
            "Epoch 10/10, Loss: 0.878718580278899\n",
            "Test Accuracy: 70.55%\n",
            "Teacher accuracy: 76.01%\n",
            "Student accuracy without teacher: 70.30%\n",
            "Student accuracy with CE + KD: 70.55%\n"
          ]
        }
      ],
      "source": [
        "def train_knowledge_distillation(teacher, student, train_loader, epochs, learning_rate, T, soft_target_loss_weight, ce_loss_weight, device):\n",
        "    ce_loss = nn.CrossEntropyLoss()\n",
        "    optimizer = optim.Adam(student.parameters(), lr=learning_rate)\n",
        "\n",
        "    teacher.eval()  # Teacher set to evaluation mode\n",
        "    student.train() # Student to train mode\n",
        "\n",
        "    for epoch in range(epochs):\n",
        "        running_loss = 0.0\n",
        "        for inputs, labels in train_loader:\n",
        "            inputs, labels = inputs.to(device), labels.to(device)\n",
        "\n",
        "            optimizer.zero_grad()\n",
        "\n",
        "            # Forward pass with the teacher model - do not save gradients here as we do not change the teacher's weights\n",
        "            with torch.no_grad():\n",
        "                teacher_logits = teacher(inputs)\n",
        "\n",
        "            # Forward pass with the student model\n",
        "            student_logits = student(inputs)\n",
        "\n",
        "            #Soften the student logits by applying softmax first and log() second\n",
        "            soft_targets = nn.functional.softmax(teacher_logits / T, dim=-1)\n",
        "            soft_prob = nn.functional.log_softmax(student_logits / T, dim=-1)\n",
        "\n",
        "            # Calculate the soft targets loss. Scaled by T**2 as suggested by the authors of the paper \"Distilling the knowledge in a neural network\"\n",
        "            soft_targets_loss = torch.sum(soft_targets * (soft_targets.log() - soft_prob)) / soft_prob.size()[0] * (T**2)\n",
        "\n",
        "            # Calculate the true label loss\n",
        "            label_loss = ce_loss(student_logits, labels)\n",
        "\n",
        "            # Weighted sum of the two losses\n",
        "            loss = soft_target_loss_weight * soft_targets_loss + ce_loss_weight * label_loss\n",
        "\n",
        "            loss.backward()\n",
        "            optimizer.step()\n",
        "\n",
        "            running_loss += loss.item()\n",
        "\n",
        "        print(f\"Epoch {epoch+1}/{epochs}, Loss: {running_loss / len(train_loader)}\")\n",
        "\n",
        "# Apply ``train_knowledge_distillation`` with a temperature of 2. Arbitrarily set the weights to 0.75 for CE and 0.25 for distillation loss.\n",
        "train_knowledge_distillation(teacher=nn_deep, student=new_nn_light, train_loader=train_loader, epochs=10, learning_rate=0.001, T=2, soft_target_loss_weight=0.25, ce_loss_weight=0.75, device=device)\n",
        "test_accuracy_light_ce_and_kd = test(new_nn_light, test_loader, device)\n",
        "\n",
        "# Compare the student test accuracy with and without the teacher, after distillation\n",
        "print(f\"Teacher accuracy: {test_accuracy_deep:.2f}%\")\n",
        "print(f\"Student accuracy without teacher: {test_accuracy_light_ce:.2f}%\")\n",
        "print(f\"Student accuracy with CE + KD: {test_accuracy_light_ce_and_kd:.2f}%\")"
      ]
    },
    {
      "cell_type": "code",
      "source": [
        "#More Deeper Teacher\n",
        "class DeeperDeepNN(nn.Module):\n",
        "    def __init__(self, num_classes=10):\n",
        "        super(DeeperDeepNN, self).__init__()\n",
        "        self.features = nn.Sequential(\n",
        "            nn.Conv2d(3, 128, kernel_size=3, padding=1),\n",
        "            nn.ReLU(),\n",
        "            nn.Conv2d(128, 256, kernel_size=3, padding=1),\n",
        "            nn.ReLU(),\n",
        "            #nn.MaxPool2d(kernel_size=2, stride=2),\n",
        "            nn.Conv2d(256, 128, kernel_size=3, padding=1),\n",
        "            nn.ReLU(),\n",
        "            nn.Conv2d(128, 64, kernel_size=3, padding=1),\n",
        "            nn.ReLU(),\n",
        "            nn.MaxPool2d(kernel_size=2, stride=2),\n",
        "            nn.Conv2d(64, 64, kernel_size=3, padding=1),\n",
        "            nn.ReLU(),\n",
        "            nn.Conv2d(64, 32, kernel_size=3, padding=1),\n",
        "            nn.ReLU(),\n",
        "            nn.MaxPool2d(kernel_size=2, stride=2),\n",
        "        )\n",
        "        self.classifier = nn.Sequential(\n",
        "            nn.Linear(2048, 512),\n",
        "            nn.ReLU(),\n",
        "            nn.Dropout(0.1),\n",
        "            nn.Linear(512, num_classes)\n",
        "        )\n",
        "\n",
        "    def forward(self, x):\n",
        "        x = self.features(x)\n",
        "        x = torch.flatten(x, 1)\n",
        "        #print(x.shape)\n",
        "        x = self.classifier(x)\n",
        "        return x\n",
        "\n"
      ],
      "metadata": {
        "id": "y4ZLr0Rax3xj"
      },
      "execution_count": 31,
      "outputs": []
    },
    {
      "cell_type": "code",
      "source": [
        "total_params_deep = \"{:,}\".format(sum(p.numel() for p in dnn_deep.parameters()))\n",
        "print(f\"DeepNN parameters: {total_params_deep}\")\n",
        "total_params_light = \"{:,}\".format(sum(p.numel() for p in nn_light.parameters()))\n",
        "print(f\"LightNN parameters: {total_params_light}\")"
      ],
      "metadata": {
        "id": "3y_uFkei36Mv",
        "outputId": "78915e02-642b-449b-c24d-175d560ed810",
        "colab": {
          "base_uri": "https://localhost:8080/"
        }
      },
      "execution_count": 32,
      "outputs": [
        {
          "output_type": "stream",
          "name": "stdout",
          "text": [
            "DeepNN parameters: 990,762\n",
            "LightNN parameters: 267,738\n"
          ]
        }
      ]
    },
    {
      "cell_type": "code",
      "source": [
        "del dnn_deep"
      ],
      "metadata": {
        "id": "fO_F5Buk1mpl"
      },
      "execution_count": 22,
      "outputs": []
    },
    {
      "cell_type": "code",
      "source": [
        "torch.cuda.empty_cache()"
      ],
      "metadata": {
        "id": "kWOroiXj1qtP"
      },
      "execution_count": 25,
      "outputs": []
    },
    {
      "cell_type": "code",
      "source": [
        "torch.manual_seed(42)\n",
        "dnn_deep = DeeperDeepNN(num_classes=10).to(device)\n",
        "train(dnn_deep, train_loader, epochs=10, learning_rate=0.001, device=device)\n",
        "test_accuracy_deep = test(dnn_deep, test_loader, device)\n",
        "\n",
        "# Instantiate the lightweight network:\n",
        "torch.manual_seed(42)\n",
        "nn_light_v2 = LightNN(num_classes=10).to(device)"
      ],
      "metadata": {
        "id": "9AFM1WthzDLw",
        "outputId": "731c90ca-d242-4806-dfe3-3e0ad5513c3a",
        "colab": {
          "base_uri": "https://localhost:8080/"
        }
      },
      "execution_count": 33,
      "outputs": [
        {
          "output_type": "stream",
          "name": "stdout",
          "text": [
            "Epoch 1/10, Loss: 1.5380044230414778\n",
            "Epoch 2/10, Loss: 1.070525638435198\n",
            "Epoch 3/10, Loss: 0.8527451178911701\n",
            "Epoch 4/10, Loss: 0.6880954174739321\n",
            "Epoch 5/10, Loss: 0.5610609781711607\n",
            "Epoch 6/10, Loss: 0.45280022069316384\n",
            "Epoch 7/10, Loss: 0.35017100418620095\n",
            "Epoch 8/10, Loss: 0.2781655494781101\n",
            "Epoch 9/10, Loss: 0.22461674189018777\n",
            "Epoch 10/10, Loss: 0.19208186601891236\n",
            "Test Accuracy: 72.13%\n"
          ]
        }
      ]
    },
    {
      "cell_type": "code",
      "source": [
        "train_knowledge_distillation(teacher=dnn_deep, student=nn_light_v2, train_loader=train_loader, epochs=10, learning_rate=0.001, T=2, soft_target_loss_weight=0.25, ce_loss_weight=0.75, device=device)\n",
        "test_accuracy_light_ce_and_kd_and_dnn = test(nn_light_v2, test_loader, device)\n",
        "\n",
        "# Compare the student test accuracy with and without the teacher, after distillation\n",
        "print(f\"Teacher accuracy: {test_accuracy_deep:.2f}%\")\n",
        "print(f\"Student accuracy without teacher: {test_accuracy_light_ce:.2f}%\")\n",
        "print(f\"Student accuracy with CE + KD: {test_accuracy_light_ce_and_kd:.2f}%\")\n",
        "print(f\"Student accuracy with CE + KD with deeper teacher: {test_accuracy_light_ce_and_kd_and_dnn:.2f}%\")"
      ],
      "metadata": {
        "id": "NVbHNdlu3Blz",
        "outputId": "a8ab59b8-a16e-4713-f861-5e627b8b5c1d",
        "colab": {
          "base_uri": "https://localhost:8080/"
        }
      },
      "execution_count": 29,
      "outputs": [
        {
          "output_type": "stream",
          "name": "stdout",
          "text": [
            "Epoch 1/10, Loss: 2.1326520531378743\n",
            "Epoch 2/10, Loss: 1.6420961017803768\n",
            "Epoch 3/10, Loss: 1.436155070429263\n",
            "Epoch 4/10, Loss: 1.283230087336372\n",
            "Epoch 5/10, Loss: 1.1720909589086956\n",
            "Epoch 6/10, Loss: 1.0765468976686678\n",
            "Epoch 7/10, Loss: 0.9889525640041322\n",
            "Epoch 8/10, Loss: 0.9130590408659347\n",
            "Epoch 9/10, Loss: 0.8433764252211432\n",
            "Epoch 10/10, Loss: 0.7892339581723713\n",
            "Test Accuracy: 70.83%\n",
            "Teacher accuracy: 78.29%\n",
            "Student accuracy without teacher: 69.97%\n",
            "Student accuracy with CE + KD: 70.78%\n",
            "Student accuracy with CE + KD with deeper teacher: 70.83%\n"
          ]
        }
      ]
    },
    {
      "cell_type": "markdown",
      "metadata": {
        "id": "WaCojlRJqdZ8"
      },
      "source": [
        "Cosine loss minimization run\n",
        "============================\n",
        "\n",
        "Feel free to play around with the temperature parameter that controls\n",
        "the softness of the softmax function and the loss coefficients. In\n",
        "neural networks, it is easy to include additional loss functions to the\n",
        "main objectives to achieve goals like better generalization. Let\\'s try\n",
        "including an objective for the student, but now let\\'s focus on their\n",
        "hidden states rather than their output layers. Our goal is to convey\n",
        "information from the teacher\\'s representation to the student by\n",
        "including a naive loss function, whose minimization implies that the\n",
        "flattened vectors that are subsequently passed to the classifiers have\n",
        "become more *similar* as the loss decreases. Of course, the teacher does\n",
        "not update its weights, so the minimization depends only on the\n",
        "student\\'s weights. The rationale behind this method is that we are\n",
        "operating under the assumption that the teacher model has a better\n",
        "internal representation that is unlikely to be achieved by the student\n",
        "without external intervention, therefore we artificially push the\n",
        "student to mimic the internal representation of the teacher. Whether or\n",
        "not this will end up helping the student is not straightforward, though,\n",
        "because pushing the lightweight network to reach this point could be a\n",
        "good thing, assuming that we have found an internal representation that\n",
        "leads to better test accuracy, but it could also be harmful because the\n",
        "networks have different architectures and the student does not have the\n",
        "same learning capacity as the teacher. In other words, there is no\n",
        "reason for these two vectors, the student\\'s and the teacher\\'s to match\n",
        "per component. The student could reach an internal representation that\n",
        "is a permutation of the teacher\\'s and it would be just as efficient.\n",
        "Nonetheless, we can still run a quick experiment to figure out the\n",
        "impact of this method. We will be using the `CosineEmbeddingLoss` which\n",
        "is given by the following formula:\n",
        "\n",
        "![Formula for\n",
        "CosineEmbeddingLoss](https://pytorch.org/tutorials//../_static/img/knowledge_distillation/cosine_embedding_loss.png){.align-center\n",
        "width=\"450px\"}\n",
        "\n",
        "Obviously, there is one thing that we need to resolve first. When we\n",
        "applied distillation to the output layer we mentioned that both networks\n",
        "have the same number of neurons, equal to the number of classes.\n",
        "However, this is not the case for the layer following our convolutional\n",
        "layers. Here, the teacher has more neurons than the student after the\n",
        "flattening of the final convolutional layer. Our loss function accepts\n",
        "two vectors of equal dimensionality as inputs, therefore we need to\n",
        "somehow match them. We will solve this by including an average pooling\n",
        "layer after the teacher\\'s convolutional layer to reduce its\n",
        "dimensionality to match that of the student.\n",
        "\n",
        "To proceed, we will modify our model classes, or create new ones. Now,\n",
        "the forward function returns not only the logits of the network but also\n",
        "the flattened hidden representation after the convolutional layer. We\n",
        "include the aforementioned pooling for the modified teacher.\n"
      ]
    },
    {
      "cell_type": "code",
      "execution_count": 55,
      "metadata": {
        "id": "ahC9W3t9qdZ8",
        "outputId": "c3cc45ef-2e80-4039-ffeb-29c43db1504a",
        "colab": {
          "base_uri": "https://localhost:8080/"
        }
      },
      "outputs": [
        {
          "output_type": "stream",
          "name": "stdout",
          "text": [
            "Norm of 1st layer for deep_nn: 7.499233245849609\n",
            "Norm of 1st layer for modified_deep_nn: 7.499233245849609\n",
            "Norm of 1st layer: 2.327361822128296\n"
          ]
        }
      ],
      "source": [
        "class ModifiedDeepNNCosine(nn.Module):\n",
        "    def __init__(self, num_classes=10):\n",
        "        super(ModifiedDeepNNCosine, self).__init__()\n",
        "        self.features = nn.Sequential(\n",
        "            nn.Conv2d(3, 128, kernel_size=3, padding=1),\n",
        "            nn.ReLU(),\n",
        "            nn.Conv2d(128, 64, kernel_size=3, padding=1),\n",
        "            nn.ReLU(),\n",
        "            nn.MaxPool2d(kernel_size=2, stride=2),\n",
        "            nn.Conv2d(64, 64, kernel_size=3, padding=1),\n",
        "            nn.ReLU(),\n",
        "            nn.Conv2d(64, 32, kernel_size=3, padding=1),\n",
        "            nn.ReLU(),\n",
        "            nn.MaxPool2d(kernel_size=2, stride=2),\n",
        "        )\n",
        "        self.classifier = nn.Sequential(\n",
        "            nn.Linear(2048, 512),\n",
        "            nn.ReLU(),\n",
        "            nn.Dropout(0.1),\n",
        "            nn.Linear(512, num_classes)\n",
        "        )\n",
        "\n",
        "    def forward(self, x):\n",
        "        x = self.features(x)\n",
        "        flattened_conv_output = torch.flatten(x, 1)\n",
        "        x = self.classifier(flattened_conv_output)\n",
        "        flattened_conv_output_after_pooling = torch.nn.functional.avg_pool1d(flattened_conv_output, 2)\n",
        "        return x, flattened_conv_output_after_pooling\n",
        "\n",
        "# Create a similar student class where we return a tuple. We do not apply pooling after flattening.\n",
        "class ModifiedLightNNCosine(nn.Module):\n",
        "    def __init__(self, num_classes=10):\n",
        "        super(ModifiedLightNNCosine, self).__init__()\n",
        "        self.features = nn.Sequential(\n",
        "            nn.Conv2d(3, 16, kernel_size=3, padding=1),\n",
        "            nn.ReLU(),\n",
        "            nn.MaxPool2d(kernel_size=2, stride=2),\n",
        "            nn.Conv2d(16, 16, kernel_size=3, padding=1),\n",
        "            nn.ReLU(),\n",
        "            nn.MaxPool2d(kernel_size=2, stride=2),\n",
        "        )\n",
        "        self.classifier = nn.Sequential(\n",
        "            nn.Linear(1024, 256),\n",
        "            nn.ReLU(),\n",
        "            nn.Dropout(0.1),\n",
        "            nn.Linear(256, num_classes)\n",
        "        )\n",
        "\n",
        "    def forward(self, x):\n",
        "        x = self.features(x)\n",
        "        flattened_conv_output = torch.flatten(x, 1)\n",
        "        x = self.classifier(flattened_conv_output)\n",
        "        return x, flattened_conv_output\n",
        "\n",
        "# We do not have to train the modified deep network from scratch of course, we just load its weights from the trained instance\n",
        "modified_nn_deep = ModifiedDeepNNCosine(num_classes=10).to(device)\n",
        "modified_nn_deep.load_state_dict(nn_deep.state_dict())\n",
        "\n",
        "# Once again ensure the norm of the first layer is the same for both networks\n",
        "print(\"Norm of 1st layer for deep_nn:\", torch.norm(nn_deep.features[0].weight).item())\n",
        "print(\"Norm of 1st layer for modified_deep_nn:\", torch.norm(modified_nn_deep.features[0].weight).item())\n",
        "\n",
        "# Initialize a modified lightweight network with the same seed as our other lightweight instances. This will be trained from scratch to examine the effectiveness of cosine loss minimization.\n",
        "torch.manual_seed(42)\n",
        "modified_nn_light = ModifiedLightNNCosine(num_classes=10).to(device)\n",
        "print(\"Norm of 1st layer:\", torch.norm(modified_nn_light.features[0].weight).item())"
      ]
    },
    {
      "cell_type": "markdown",
      "metadata": {
        "id": "8Ood2CBKqdZ9"
      },
      "source": [
        "Naturally, we need to change the train loop because now the model\n",
        "returns a tuple `(logits, hidden_representation)`. Using a sample input\n",
        "tensor we can print their shapes.\n"
      ]
    },
    {
      "cell_type": "code",
      "execution_count": 56,
      "metadata": {
        "id": "w6YaVyRvqdZ9",
        "outputId": "a4c5518a-7d91-428d-a4c4-40e00db822c1",
        "colab": {
          "base_uri": "https://localhost:8080/"
        }
      },
      "outputs": [
        {
          "output_type": "stream",
          "name": "stdout",
          "text": [
            "Student logits shape: torch.Size([128, 10])\n",
            "Student hidden representation shape: torch.Size([128, 1024])\n",
            "Teacher logits shape: torch.Size([128, 10])\n",
            "Teacher hidden representation shape: torch.Size([128, 1024])\n"
          ]
        }
      ],
      "source": [
        "# Create a sample input tensor\n",
        "sample_input = torch.randn(128, 3, 32, 32).to(device) # Batch size: 128, Filters: 3, Image size: 32x32\n",
        "\n",
        "# Pass the input through the student\n",
        "logits, hidden_representation = modified_nn_light(sample_input)\n",
        "\n",
        "# Print the shapes of the tensors\n",
        "print(\"Student logits shape:\", logits.shape) # batch_size x total_classes\n",
        "print(\"Student hidden representation shape:\", hidden_representation.shape) # batch_size x hidden_representation_size\n",
        "\n",
        "# Pass the input through the teacher\n",
        "logits, hidden_representation = modified_nn_deep(sample_input)\n",
        "\n",
        "# Print the shapes of the tensors\n",
        "print(\"Teacher logits shape:\", logits.shape) # batch_size x total_classes\n",
        "print(\"Teacher hidden representation shape:\", hidden_representation.shape) # batch_size x hidden_representation_size"
      ]
    },
    {
      "cell_type": "markdown",
      "metadata": {
        "id": "umdZEdUpqdZ-"
      },
      "source": [
        "In our case, `hidden_representation_size` is `1024`. This is the\n",
        "flattened feature map of the final convolutional layer of the student\n",
        "and as you can see, it is the input for its classifier. It is `1024` for\n",
        "the teacher too, because we made it so with `avg_pool1d` from `2048`.\n",
        "The loss applied here only affects the weights of the student prior to\n",
        "the loss calculation. In other words, it does not affect the classifier\n",
        "of the student. The modified training loop is the following:\n",
        "\n",
        "![In Cosine Loss minimization, we want to maximize the cosine similarity\n",
        "of the two representations by returning gradients to the\n",
        "student:](https://pytorch.org/tutorials//../_static/img/knowledge_distillation/cosine_loss_distillation.png){.align-center}\n"
      ]
    },
    {
      "cell_type": "code",
      "execution_count": 57,
      "metadata": {
        "id": "lF3ZToahqdZ-"
      },
      "outputs": [],
      "source": [
        "def train_cosine_loss(teacher, student, train_loader, epochs, learning_rate, hidden_rep_loss_weight, ce_loss_weight, device):\n",
        "    ce_loss = nn.CrossEntropyLoss()\n",
        "    cosine_loss = nn.CosineEmbeddingLoss()\n",
        "    optimizer = optim.Adam(student.parameters(), lr=learning_rate)\n",
        "\n",
        "    teacher.to(device)\n",
        "    student.to(device)\n",
        "    teacher.eval()  # Teacher set to evaluation mode\n",
        "    student.train() # Student to train mode\n",
        "\n",
        "    for epoch in range(epochs):\n",
        "        running_loss = 0.0\n",
        "        for inputs, labels in train_loader:\n",
        "            inputs, labels = inputs.to(device), labels.to(device)\n",
        "\n",
        "            optimizer.zero_grad()\n",
        "\n",
        "            # Forward pass with the teacher model and keep only the hidden representation\n",
        "            with torch.no_grad():\n",
        "                _, teacher_hidden_representation = teacher(inputs)\n",
        "\n",
        "            # Forward pass with the student model\n",
        "            student_logits, student_hidden_representation = student(inputs)\n",
        "\n",
        "            # Calculate the cosine loss. Target is a vector of ones. From the loss formula above we can see that is the case where loss minimization leads to cosine similarity increase.\n",
        "            hidden_rep_loss = cosine_loss(student_hidden_representation, teacher_hidden_representation, target=torch.ones(inputs.size(0)).to(device))\n",
        "\n",
        "            # Calculate the true label loss\n",
        "            label_loss = ce_loss(student_logits, labels)\n",
        "\n",
        "            # Weighted sum of the two losses\n",
        "            loss = hidden_rep_loss_weight * hidden_rep_loss + ce_loss_weight * label_loss\n",
        "\n",
        "            loss.backward()\n",
        "            optimizer.step()\n",
        "\n",
        "            running_loss += loss.item()\n",
        "\n",
        "        print(f\"Epoch {epoch+1}/{epochs}, Loss: {running_loss / len(train_loader)}\")"
      ]
    },
    {
      "cell_type": "markdown",
      "metadata": {
        "id": "D9ZUBNvsqdZ-"
      },
      "source": [
        "We need to modify our test function for the same reason. Here we ignore\n",
        "the hidden representation returned by the model.\n"
      ]
    },
    {
      "cell_type": "code",
      "execution_count": 58,
      "metadata": {
        "id": "bd9Ol5H3qdZ-"
      },
      "outputs": [],
      "source": [
        "def test_multiple_outputs(model, test_loader, device):\n",
        "    model.to(device)\n",
        "    model.eval()\n",
        "\n",
        "    correct = 0\n",
        "    total = 0\n",
        "\n",
        "    with torch.no_grad():\n",
        "        for inputs, labels in test_loader:\n",
        "            inputs, labels = inputs.to(device), labels.to(device)\n",
        "\n",
        "            outputs, _ = model(inputs) # Disregard the second tensor of the tuple\n",
        "            _, predicted = torch.max(outputs.data, 1)\n",
        "\n",
        "            total += labels.size(0)\n",
        "            correct += (predicted == labels).sum().item()\n",
        "\n",
        "    accuracy = 100 * correct / total\n",
        "    print(f\"Test Accuracy: {accuracy:.2f}%\")\n",
        "    return accuracy"
      ]
    },
    {
      "cell_type": "markdown",
      "metadata": {
        "id": "-LkpbSRjqdZ_"
      },
      "source": [
        "In this case, we could easily include both knowledge distillation and\n",
        "cosine loss minimization in the same function. It is common to combine\n",
        "methods to achieve better performance in teacher-student paradigms. For\n",
        "now, we can run a simple train-test session.\n"
      ]
    },
    {
      "cell_type": "code",
      "execution_count": 59,
      "metadata": {
        "id": "s4spDdPxqdZ_",
        "outputId": "47a50469-8124-41f8-bafc-d121d6b9bc6a",
        "colab": {
          "base_uri": "https://localhost:8080/"
        }
      },
      "outputs": [
        {
          "output_type": "stream",
          "name": "stdout",
          "text": [
            "Epoch 1/10, Loss: 1.3060712579571072\n",
            "Epoch 2/10, Loss: 1.0721872371176016\n",
            "Epoch 3/10, Loss: 0.9724032314842009\n",
            "Epoch 4/10, Loss: 0.898665290659346\n",
            "Epoch 5/10, Loss: 0.8442356780057063\n",
            "Epoch 6/10, Loss: 0.7993245112621571\n",
            "Epoch 7/10, Loss: 0.7595146789270288\n",
            "Epoch 8/10, Loss: 0.7217674218785123\n",
            "Epoch 9/10, Loss: 0.6849287752910038\n",
            "Epoch 10/10, Loss: 0.6557571324698456\n",
            "Test Accuracy: 70.68%\n"
          ]
        }
      ],
      "source": [
        "# Train and test the lightweight network with cross entropy loss\n",
        "train_cosine_loss(teacher=modified_nn_deep, student=modified_nn_light, train_loader=train_loader, epochs=10, learning_rate=0.001, hidden_rep_loss_weight=0.25, ce_loss_weight=0.75, device=device)\n",
        "test_accuracy_light_ce_and_cosine_loss = test_multiple_outputs(modified_nn_light, test_loader, device)"
      ]
    },
    {
      "cell_type": "markdown",
      "metadata": {
        "id": "wTJYMRJ6qdZ_"
      },
      "source": [
        "Intermediate regressor run\n",
        "==========================\n",
        "\n",
        "Our naive minimization does not guarantee better results for several\n",
        "reasons, one being the dimensionality of the vectors. Cosine similarity\n",
        "generally works better than Euclidean distance for vectors of higher\n",
        "dimensionality, but we were dealing with vectors with 1024 components\n",
        "each, so it is much harder to extract meaningful similarities.\n",
        "Furthermore, as we mentioned, pushing towards a match of the hidden\n",
        "representation of the teacher and the student is not supported by\n",
        "theory. There are no good reasons why we should be aiming for a 1:1\n",
        "match of these vectors. We will provide a final example of training\n",
        "intervention by including an extra network called regressor. The\n",
        "objective is to first extract the feature map of the teacher after a\n",
        "convolutional layer, then extract a feature map of the student after a\n",
        "convolutional layer, and finally try to match these maps. However, this\n",
        "time, we will introduce a regressor between the networks to facilitate\n",
        "the matching process. The regressor will be trainable and ideally will\n",
        "do a better job than our naive cosine loss minimization scheme. Its main\n",
        "job is to match the dimensionality of these feature maps so that we can\n",
        "properly define a loss function between the teacher and the student.\n",
        "Defining such a loss function provides a teaching \\\"path,\\\" which is\n",
        "basically a flow to back-propagate gradients that will change the\n",
        "student\\'s weights. Focusing on the output of the convolutional layers\n",
        "right before each classifier for our original networks, we have the\n",
        "following shapes:\n"
      ]
    },
    {
      "cell_type": "code",
      "execution_count": 40,
      "metadata": {
        "id": "Ptaz_2s-qdZ_",
        "outputId": "87259427-3b2b-434d-ee80-5b343c444fd9",
        "colab": {
          "base_uri": "https://localhost:8080/"
        }
      },
      "outputs": [
        {
          "output_type": "stream",
          "name": "stdout",
          "text": [
            "Student's feature extractor output shape:  torch.Size([128, 16, 8, 8])\n",
            "Teacher's feature extractor output shape:  torch.Size([128, 32, 8, 8])\n"
          ]
        }
      ],
      "source": [
        "# Pass the sample input only from the convolutional feature extractor\n",
        "convolutional_fe_output_student = nn_light.features(sample_input)\n",
        "convolutional_fe_output_teacher = nn_deep.features(sample_input)\n",
        "\n",
        "# Print their shapes\n",
        "print(\"Student's feature extractor output shape: \", convolutional_fe_output_student.shape)\n",
        "print(\"Teacher's feature extractor output shape: \", convolutional_fe_output_teacher.shape)"
      ]
    },
    {
      "cell_type": "markdown",
      "metadata": {
        "id": "9wWenXwwqdaA"
      },
      "source": [
        "We have 32 filters for the teacher and 16 filters for the student. We\n",
        "will include a trainable layer that converts the feature map of the\n",
        "student to the shape of the feature map of the teacher. In practice, we\n",
        "modify the lightweight class to return the hidden state after an\n",
        "intermediate regressor that matches the sizes of the convolutional\n",
        "feature maps and the teacher class to return the output of the final\n",
        "convolutional layer without pooling or flattening.\n",
        "\n",
        "![The trainable layer matches the shapes of the intermediate tensors and\n",
        "Mean Squared Error (MSE) is properly\n",
        "defined:](https://pytorch.org/tutorials//../_static/img/knowledge_distillation/fitnets_knowledge_distill.png){.align-center}\n"
      ]
    },
    {
      "cell_type": "code",
      "execution_count": 60,
      "metadata": {
        "id": "EW8XosoHqdaO"
      },
      "outputs": [],
      "source": [
        "class ModifiedDeepNNRegressor(nn.Module):\n",
        "    def __init__(self, num_classes=10):\n",
        "        super(ModifiedDeepNNRegressor, self).__init__()\n",
        "        self.features = nn.Sequential(\n",
        "            nn.Conv2d(3, 128, kernel_size=3, padding=1),\n",
        "            nn.ReLU(),\n",
        "            nn.Conv2d(128, 64, kernel_size=3, padding=1),\n",
        "            nn.ReLU(),\n",
        "            nn.MaxPool2d(kernel_size=2, stride=2),\n",
        "            nn.Conv2d(64, 64, kernel_size=3, padding=1),\n",
        "            nn.ReLU(),\n",
        "            nn.Conv2d(64, 32, kernel_size=3, padding=1),\n",
        "            nn.ReLU(),\n",
        "            nn.MaxPool2d(kernel_size=2, stride=2),\n",
        "        )\n",
        "        self.classifier = nn.Sequential(\n",
        "            nn.Linear(2048, 512),\n",
        "            nn.ReLU(),\n",
        "            nn.Dropout(0.1),\n",
        "            nn.Linear(512, num_classes)\n",
        "        )\n",
        "\n",
        "    def forward(self, x):\n",
        "        x = self.features(x)\n",
        "        conv_feature_map = x\n",
        "        x = torch.flatten(x, 1)\n",
        "        x = self.classifier(x)\n",
        "        return x, conv_feature_map\n",
        "\n",
        "class ModifiedLightNNRegressor(nn.Module):\n",
        "    def __init__(self, num_classes=10):\n",
        "        super(ModifiedLightNNRegressor, self).__init__()\n",
        "        self.features = nn.Sequential(\n",
        "            nn.Conv2d(3, 16, kernel_size=3, padding=1),\n",
        "            nn.ReLU(),\n",
        "            nn.MaxPool2d(kernel_size=2, stride=2),\n",
        "            nn.Conv2d(16, 16, kernel_size=3, padding=1),\n",
        "            nn.ReLU(),\n",
        "            nn.MaxPool2d(kernel_size=2, stride=2),\n",
        "        )\n",
        "        # Include an extra regressor (in our case linear)\n",
        "        self.regressor = nn.Sequential(\n",
        "            nn.Conv2d(16, 32, kernel_size=3, padding=1)\n",
        "        )\n",
        "        self.classifier = nn.Sequential(\n",
        "            nn.Linear(1024, 256),\n",
        "            nn.ReLU(),\n",
        "            nn.Dropout(0.1),\n",
        "            nn.Linear(256, num_classes)\n",
        "        )\n",
        "\n",
        "    def forward(self, x):\n",
        "        x = self.features(x)\n",
        "        regressor_output = self.regressor(x)\n",
        "        x = torch.flatten(x, 1)\n",
        "        x = self.classifier(x)\n",
        "        return x, regressor_output"
      ]
    },
    {
      "cell_type": "markdown",
      "metadata": {
        "id": "P-4N6HWkqdaO"
      },
      "source": [
        "After that, we have to update our train loop again. This time, we\n",
        "extract the regressor output of the student, the feature map of the\n",
        "teacher, we calculate the `MSE` on these tensors (they have the exact\n",
        "same shape so it\\'s properly defined) and we back propagate gradients\n",
        "based on that loss, in addition to the regular cross entropy loss of the\n",
        "classification task.\n"
      ]
    },
    {
      "cell_type": "code",
      "execution_count": 61,
      "metadata": {
        "id": "znueoWJ4qdaP",
        "outputId": "24da437b-ba0e-4925-d22c-0b7aa5b16e14",
        "colab": {
          "base_uri": "https://localhost:8080/"
        }
      },
      "outputs": [
        {
          "output_type": "stream",
          "name": "stdout",
          "text": [
            "Epoch 1/10, Loss: 1.6504264865689875\n",
            "Epoch 2/10, Loss: 1.2875229656848761\n",
            "Epoch 3/10, Loss: 1.1481972984645679\n",
            "Epoch 4/10, Loss: 1.0544632755581984\n",
            "Epoch 5/10, Loss: 0.9782398463515065\n",
            "Epoch 6/10, Loss: 0.9166340660256194\n",
            "Epoch 7/10, Loss: 0.8633141805753684\n",
            "Epoch 8/10, Loss: 0.8143840923028833\n",
            "Epoch 9/10, Loss: 0.7707478048856301\n",
            "Epoch 10/10, Loss: 0.7358742847162134\n",
            "Test Accuracy: 71.28%\n"
          ]
        }
      ],
      "source": [
        "def train_mse_loss(teacher, student, train_loader, epochs, learning_rate, feature_map_weight, ce_loss_weight, device):\n",
        "    ce_loss = nn.CrossEntropyLoss()\n",
        "    mse_loss = nn.MSELoss()\n",
        "    optimizer = optim.Adam(student.parameters(), lr=learning_rate)\n",
        "\n",
        "    teacher.to(device)\n",
        "    student.to(device)\n",
        "    teacher.eval()  # Teacher set to evaluation mode\n",
        "    student.train() # Student to train mode\n",
        "\n",
        "    for epoch in range(epochs):\n",
        "        running_loss = 0.0\n",
        "        for inputs, labels in train_loader:\n",
        "            inputs, labels = inputs.to(device), labels.to(device)\n",
        "\n",
        "            optimizer.zero_grad()\n",
        "\n",
        "            # Again ignore teacher logits\n",
        "            with torch.no_grad():\n",
        "                _, teacher_feature_map = teacher(inputs)\n",
        "\n",
        "            # Forward pass with the student model\n",
        "            student_logits, regressor_feature_map = student(inputs)\n",
        "\n",
        "            # Calculate the loss\n",
        "            hidden_rep_loss = mse_loss(regressor_feature_map, teacher_feature_map)\n",
        "\n",
        "            # Calculate the true label loss\n",
        "            label_loss = ce_loss(student_logits, labels)\n",
        "\n",
        "            # Weighted sum of the two losses\n",
        "            loss = feature_map_weight * hidden_rep_loss + ce_loss_weight * label_loss\n",
        "\n",
        "            loss.backward()\n",
        "            optimizer.step()\n",
        "\n",
        "            running_loss += loss.item()\n",
        "\n",
        "        print(f\"Epoch {epoch+1}/{epochs}, Loss: {running_loss / len(train_loader)}\")\n",
        "\n",
        "# Notice how our test function remains the same here with the one we used in our previous case. We only care about the actual outputs because we measure accuracy.\n",
        "\n",
        "# Initialize a ModifiedLightNNRegressor\n",
        "torch.manual_seed(42)\n",
        "modified_nn_light_reg = ModifiedLightNNRegressor(num_classes=10).to(device)\n",
        "\n",
        "# We do not have to train the modified deep network from scratch of course, we just load its weights from the trained instance\n",
        "modified_nn_deep_reg = ModifiedDeepNNRegressor(num_classes=10).to(device)\n",
        "modified_nn_deep_reg.load_state_dict(nn_deep.state_dict())\n",
        "\n",
        "# Train and test once again\n",
        "train_mse_loss(teacher=modified_nn_deep_reg, student=modified_nn_light_reg, train_loader=train_loader, epochs=10, learning_rate=0.001, feature_map_weight=0.25, ce_loss_weight=0.75, device=device)\n",
        "test_accuracy_light_ce_and_mse_loss = test_multiple_outputs(modified_nn_light_reg, test_loader, device)"
      ]
    },
    {
      "cell_type": "markdown",
      "metadata": {
        "id": "wP-9SKtMqdaP"
      },
      "source": [
        "It is expected that the final method will work better than `CosineLoss`\n",
        "because now we have allowed a trainable layer between the teacher and\n",
        "the student, which gives the student some wiggle room when it comes to\n",
        "learning, rather than pushing the student to copy the teacher\\'s\n",
        "representation. Including the extra network is the idea behind\n",
        "hint-based distillation.\n"
      ]
    },
    {
      "cell_type": "code",
      "execution_count": 62,
      "metadata": {
        "id": "Sv8V3mKsqdaP",
        "outputId": "ad6267b0-91a1-403b-f0c3-98ad136f3971",
        "colab": {
          "base_uri": "https://localhost:8080/"
        }
      },
      "outputs": [
        {
          "output_type": "stream",
          "name": "stdout",
          "text": [
            "Teacher accuracy: 76.01%\n",
            "Student accuracy without teacher: 70.30%\n",
            "Student accuracy with CE + KD: 70.55%\n",
            "Student accuracy with CE + CosineLoss: 70.68%\n",
            "Student accuracy with CE + RegressorMSE: 71.28%\n"
          ]
        }
      ],
      "source": [
        "print(f\"Teacher accuracy: {test_accuracy_deep:.2f}%\")\n",
        "print(f\"Student accuracy without teacher: {test_accuracy_light_ce:.2f}%\")\n",
        "print(f\"Student accuracy with CE + KD: {test_accuracy_light_ce_and_kd:.2f}%\")\n",
        "print(f\"Student accuracy with CE + CosineLoss: {test_accuracy_light_ce_and_cosine_loss:.2f}%\")\n",
        "print(f\"Student accuracy with CE + RegressorMSE: {test_accuracy_light_ce_and_mse_loss:.2f}%\")"
      ]
    },
    {
      "cell_type": "markdown",
      "metadata": {
        "id": "a18jIVzXqdaP"
      },
      "source": [
        "Conclusion\n",
        "==========\n",
        "\n",
        "None of the methods above increases the number of parameters for the\n",
        "network or inference time, so the performance increase comes at the\n",
        "little cost of calculating gradients during training. In ML\n",
        "applications, we mostly care about inference time because training\n",
        "happens before the model deployment. If our lightweight model is still\n",
        "too heavy for deployment, we can apply different ideas, such as\n",
        "post-training quantization. Additional losses can be applied in many\n",
        "tasks, not just classification, and you can experiment with quantities\n",
        "like coefficients, temperature, or number of neurons. Feel free to tune\n",
        "any numbers in the tutorial above, but keep in mind, if you change the\n",
        "number of neurons / filters chances are a shape mismatch might occur.\n",
        "\n",
        "For more information, see:\n",
        "\n",
        "-   [Hinton, G., Vinyals, O., Dean, J.: Distilling the knowledge in a\n",
        "    neural network. In: Neural Information Processing System Deep\n",
        "    Learning Workshop (2015)](https://arxiv.org/abs/1503.02531)\n",
        "-   [Romero, A., Ballas, N., Kahou, S.E., Chassang, A., Gatta, C.,\n",
        "    Bengio, Y.: Fitnets: Hints for thin deep nets. In: Proceedings of\n",
        "    the International Conference on Learning\n",
        "    Representations (2015)](https://arxiv.org/abs/1412.6550)\n"
      ]
    }
  ],
  "metadata": {
    "kernelspec": {
      "display_name": "Python 3",
      "name": "python3"
    },
    "language_info": {
      "codemirror_mode": {
        "name": "ipython",
        "version": 3
      },
      "file_extension": ".py",
      "mimetype": "text/x-python",
      "name": "python",
      "nbconvert_exporter": "python",
      "pygments_lexer": "ipython3",
      "version": "3.10.12"
    },
    "colab": {
      "provenance": [],
      "gpuType": "T4",
      "include_colab_link": true
    },
    "accelerator": "GPU"
  },
  "nbformat": 4,
  "nbformat_minor": 0
}